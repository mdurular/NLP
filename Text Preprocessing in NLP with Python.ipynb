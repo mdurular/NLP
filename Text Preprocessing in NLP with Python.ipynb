{
 "cells": [
  {
   "cell_type": "code",
   "execution_count": 3,
   "id": "57c9f5b9",
   "metadata": {},
   "outputs": [],
   "source": [
    "import pandas as pd\n",
    "import numpy as np\n",
    "import seaborn as sns\n",
    "import matplotlib.pyplot as plt\n",
    "import nltk\n",
    "from nltk.tokenize import sent_tokenize, word_tokenize\n",
    "from nltk.corpus import stopwords\n",
    "from nltk.stem import WordNetLemmatizer\n",
    "from nltk.stem import PorterStemmer\n",
    "from collections import Counter\n",
    "import warnings\n",
    "warnings.filterwarnings(\"ignore\")\n",
    "plt.rcParams[\"figure.figsize\"] = (10,6)\n",
    "pd.set_option('display.max_columns', None)\n",
    "pd.set_option('display.max_rows', None)"
   ]
  },
  {
   "cell_type": "code",
   "execution_count": 4,
   "id": "ea701601",
   "metadata": {},
   "outputs": [
    {
     "data": {
      "text/html": [
       "<div>\n",
       "<style scoped>\n",
       "    .dataframe tbody tr th:only-of-type {\n",
       "        vertical-align: middle;\n",
       "    }\n",
       "\n",
       "    .dataframe tbody tr th {\n",
       "        vertical-align: top;\n",
       "    }\n",
       "\n",
       "    .dataframe thead th {\n",
       "        text-align: right;\n",
       "    }\n",
       "</style>\n",
       "<table border=\"1\" class=\"dataframe\">\n",
       "  <thead>\n",
       "    <tr style=\"text-align: right;\">\n",
       "      <th></th>\n",
       "      <th>v1</th>\n",
       "      <th>v2</th>\n",
       "      <th>Unnamed: 2</th>\n",
       "      <th>Unnamed: 3</th>\n",
       "      <th>Unnamed: 4</th>\n",
       "    </tr>\n",
       "  </thead>\n",
       "  <tbody>\n",
       "    <tr>\n",
       "      <th>0</th>\n",
       "      <td>ham</td>\n",
       "      <td>Go until jurong point, crazy.. Available only ...</td>\n",
       "      <td>NaN</td>\n",
       "      <td>NaN</td>\n",
       "      <td>NaN</td>\n",
       "    </tr>\n",
       "    <tr>\n",
       "      <th>1</th>\n",
       "      <td>ham</td>\n",
       "      <td>Ok lar... Joking wif u oni...</td>\n",
       "      <td>NaN</td>\n",
       "      <td>NaN</td>\n",
       "      <td>NaN</td>\n",
       "    </tr>\n",
       "    <tr>\n",
       "      <th>2</th>\n",
       "      <td>spam</td>\n",
       "      <td>Free entry in 2 a wkly comp to win FA Cup fina...</td>\n",
       "      <td>NaN</td>\n",
       "      <td>NaN</td>\n",
       "      <td>NaN</td>\n",
       "    </tr>\n",
       "    <tr>\n",
       "      <th>3</th>\n",
       "      <td>ham</td>\n",
       "      <td>U dun say so early hor... U c already then say...</td>\n",
       "      <td>NaN</td>\n",
       "      <td>NaN</td>\n",
       "      <td>NaN</td>\n",
       "    </tr>\n",
       "    <tr>\n",
       "      <th>4</th>\n",
       "      <td>ham</td>\n",
       "      <td>Nah I don't think he goes to usf, he lives aro...</td>\n",
       "      <td>NaN</td>\n",
       "      <td>NaN</td>\n",
       "      <td>NaN</td>\n",
       "    </tr>\n",
       "  </tbody>\n",
       "</table>\n",
       "</div>"
      ],
      "text/plain": [
       "     v1                                                 v2 Unnamed: 2  \\\n",
       "0   ham  Go until jurong point, crazy.. Available only ...        NaN   \n",
       "1   ham                      Ok lar... Joking wif u oni...        NaN   \n",
       "2  spam  Free entry in 2 a wkly comp to win FA Cup fina...        NaN   \n",
       "3   ham  U dun say so early hor... U c already then say...        NaN   \n",
       "4   ham  Nah I don't think he goes to usf, he lives aro...        NaN   \n",
       "\n",
       "  Unnamed: 3 Unnamed: 4  \n",
       "0        NaN        NaN  \n",
       "1        NaN        NaN  \n",
       "2        NaN        NaN  \n",
       "3        NaN        NaN  \n",
       "4        NaN        NaN  "
      ]
     },
     "execution_count": 4,
     "metadata": {},
     "output_type": "execute_result"
    }
   ],
   "source": [
    "import pandas as pd                                     #reading the data\n",
    "data = pd.read_csv(\"spam.csv\",encoding=\"ISO-8859-1\")\n",
    "data.head()"
   ]
  },
  {
   "cell_type": "code",
   "execution_count": 5,
   "id": "b8f180cd",
   "metadata": {},
   "outputs": [],
   "source": [
    "data['label'] = np.where(data['v1']==\"spam\",0,1)"
   ]
  },
  {
   "cell_type": "code",
   "execution_count": 6,
   "id": "5c104c20",
   "metadata": {},
   "outputs": [
    {
     "data": {
      "text/html": [
       "<div>\n",
       "<style scoped>\n",
       "    .dataframe tbody tr th:only-of-type {\n",
       "        vertical-align: middle;\n",
       "    }\n",
       "\n",
       "    .dataframe tbody tr th {\n",
       "        vertical-align: top;\n",
       "    }\n",
       "\n",
       "    .dataframe thead th {\n",
       "        text-align: right;\n",
       "    }\n",
       "</style>\n",
       "<table border=\"1\" class=\"dataframe\">\n",
       "  <thead>\n",
       "    <tr style=\"text-align: right;\">\n",
       "      <th></th>\n",
       "      <th>v1</th>\n",
       "      <th>v2</th>\n",
       "      <th>Unnamed: 2</th>\n",
       "      <th>Unnamed: 3</th>\n",
       "      <th>Unnamed: 4</th>\n",
       "      <th>label</th>\n",
       "    </tr>\n",
       "  </thead>\n",
       "  <tbody>\n",
       "    <tr>\n",
       "      <th>0</th>\n",
       "      <td>ham</td>\n",
       "      <td>Go until jurong point, crazy.. Available only ...</td>\n",
       "      <td>NaN</td>\n",
       "      <td>NaN</td>\n",
       "      <td>NaN</td>\n",
       "      <td>1</td>\n",
       "    </tr>\n",
       "    <tr>\n",
       "      <th>1</th>\n",
       "      <td>ham</td>\n",
       "      <td>Ok lar... Joking wif u oni...</td>\n",
       "      <td>NaN</td>\n",
       "      <td>NaN</td>\n",
       "      <td>NaN</td>\n",
       "      <td>1</td>\n",
       "    </tr>\n",
       "    <tr>\n",
       "      <th>2</th>\n",
       "      <td>spam</td>\n",
       "      <td>Free entry in 2 a wkly comp to win FA Cup fina...</td>\n",
       "      <td>NaN</td>\n",
       "      <td>NaN</td>\n",
       "      <td>NaN</td>\n",
       "      <td>0</td>\n",
       "    </tr>\n",
       "    <tr>\n",
       "      <th>3</th>\n",
       "      <td>ham</td>\n",
       "      <td>U dun say so early hor... U c already then say...</td>\n",
       "      <td>NaN</td>\n",
       "      <td>NaN</td>\n",
       "      <td>NaN</td>\n",
       "      <td>1</td>\n",
       "    </tr>\n",
       "    <tr>\n",
       "      <th>4</th>\n",
       "      <td>ham</td>\n",
       "      <td>Nah I don't think he goes to usf, he lives aro...</td>\n",
       "      <td>NaN</td>\n",
       "      <td>NaN</td>\n",
       "      <td>NaN</td>\n",
       "      <td>1</td>\n",
       "    </tr>\n",
       "  </tbody>\n",
       "</table>\n",
       "</div>"
      ],
      "text/plain": [
       "     v1                                                 v2 Unnamed: 2  \\\n",
       "0   ham  Go until jurong point, crazy.. Available only ...        NaN   \n",
       "1   ham                      Ok lar... Joking wif u oni...        NaN   \n",
       "2  spam  Free entry in 2 a wkly comp to win FA Cup fina...        NaN   \n",
       "3   ham  U dun say so early hor... U c already then say...        NaN   \n",
       "4   ham  Nah I don't think he goes to usf, he lives aro...        NaN   \n",
       "\n",
       "  Unnamed: 3 Unnamed: 4  label  \n",
       "0        NaN        NaN      1  \n",
       "1        NaN        NaN      1  \n",
       "2        NaN        NaN      0  \n",
       "3        NaN        NaN      1  \n",
       "4        NaN        NaN      1  "
      ]
     },
     "execution_count": 6,
     "metadata": {},
     "output_type": "execute_result"
    }
   ],
   "source": [
    "data.head()"
   ]
  },
  {
   "cell_type": "code",
   "execution_count": 7,
   "id": "b0d025fd",
   "metadata": {},
   "outputs": [
    {
     "data": {
      "image/png": "[encoded data removed]",
      "text/plain": [
       "<Figure size 720x432 with 1 Axes>"
      ]
     },
     "metadata": {
      "needs_background": "light"
     },
     "output_type": "display_data"
    }
   ],
   "source": [
    "ax = sns.countplot(data = data, x =\"v1\")\n",
    "for p in ax.containers:\n",
    "    ax.bar_label(p)"
   ]
  },
  {
   "cell_type": "code",
   "execution_count": 8,
   "id": "c900d3d8",
   "metadata": {},
   "outputs": [
    {
     "data": {
      "text/plain": [
       "ham     4825\n",
       "spam     747\n",
       "Name: v1, dtype: int64"
      ]
     },
     "execution_count": 8,
     "metadata": {},
     "output_type": "execute_result"
    }
   ],
   "source": [
    "data.v1.value_counts()"
   ]
  },
  {
   "cell_type": "markdown",
   "id": "68470ef2",
   "metadata": {},
   "source": [
    "# Cleaning Data"
   ]
  },
  {
   "cell_type": "code",
   "execution_count": 9,
   "id": "20ff81f6",
   "metadata": {},
   "outputs": [],
   "source": [
    "data2 = data.copy()"
   ]
  },
  {
   "cell_type": "code",
   "execution_count": 10,
   "id": "d780c949",
   "metadata": {},
   "outputs": [
    {
     "data": {
      "text/plain": [
       "0    Go until jurong point, crazy.. Available only ...\n",
       "1                        Ok lar... Joking wif u oni...\n",
       "2    Free entry in 2 a wkly comp to win FA Cup fina...\n",
       "3    U dun say so early hor... U c already then say...\n",
       "4    Nah I don't think he goes to usf, he lives aro...\n",
       "Name: v2, dtype: object"
      ]
     },
     "execution_count": 10,
     "metadata": {},
     "output_type": "execute_result"
    }
   ],
   "source": [
    "data2.v2.head()"
   ]
  },
  {
   "cell_type": "markdown",
   "id": "473a6096",
   "metadata": {},
   "source": [
    "# Cleaning Data"
   ]
  },
  {
   "cell_type": "code",
   "execution_count": 11,
   "id": "545378dc",
   "metadata": {},
   "outputs": [],
   "source": [
    "stop_words = stopwords.words('english')\n",
    "\n",
    "for i in [\"not\", \"no\"]:\n",
    "        stop_words.remove(i)"
   ]
  },
  {
   "cell_type": "code",
   "execution_count": 12,
   "id": "609fe166",
   "metadata": {},
   "outputs": [],
   "source": [
    "def cleaning(data):\n",
    "    \n",
    "    import re\n",
    "    \n",
    "    #1. Removing URLS\n",
    "    data = re.sub('http\\S+', '', data).strip()\n",
    "    data = re.sub('www\\S+', '', data).strip()\n",
    "\n",
    "    #2. Removing Tags\n",
    "    data = re.sub('#\\S+', '', data).strip()\n",
    "\n",
    "    #3. Removing Mentions\n",
    "    data = re.sub('@\\S+', '', data).strip()\n",
    "    \n",
    "    #4. Removing upper brackets to keep negative auxiliary verbs in text\n",
    "    data = data.replace(\"'\", \"\")\n",
    "    \n",
    "    #5. Tokenize\n",
    "    text_tokens = word_tokenize(data.lower())\n",
    "    \n",
    "    #6. Remove Puncs and number\n",
    "    tokens_without_punc = [w for w in text_tokens if w.isalpha()]\n",
    "    \n",
    "    #7. Removing Stopwords\n",
    "    tokens_without_sw = [t for t in tokens_without_punc if t not in stop_words]\n",
    "    \n",
    "    #8. lemma\n",
    "    text_cleaned = [WordNetLemmatizer().lemmatize(t) for t in tokens_without_sw]\n",
    "    \n",
    "    #joining\n",
    "    return \" \".join(text_cleaned)"
   ]
  },
  {
   "cell_type": "code",
   "execution_count": 13,
   "id": "f03a5500",
   "metadata": {},
   "outputs": [
    {
     "data": {
      "text/plain": [
       "0    go jurong point crazy available bugis n great ...\n",
       "1                              ok lar joking wif u oni\n",
       "2    free entry wkly comp win fa cup final tkts may...\n",
       "3                  u dun say early hor u c already say\n",
       "4             nah dont think go usf life around though\n",
       "Name: v2, dtype: object"
      ]
     },
     "execution_count": 13,
     "metadata": {},
     "output_type": "execute_result"
    }
   ],
   "source": [
    "cleaning_v2 = data2[\"v2\"].apply(cleaning)\n",
    "cleaning_v2.head()"
   ]
  },
  {
   "cell_type": "markdown",
   "id": "a070adb2",
   "metadata": {},
   "source": [
    "# Features and Label"
   ]
  },
  {
   "cell_type": "code",
   "execution_count": 14,
   "id": "17b03ee9",
   "metadata": {},
   "outputs": [
    {
     "data": {
      "text/html": [
       "<div>\n",
       "<style scoped>\n",
       "    .dataframe tbody tr th:only-of-type {\n",
       "        vertical-align: middle;\n",
       "    }\n",
       "\n",
       "    .dataframe tbody tr th {\n",
       "        vertical-align: top;\n",
       "    }\n",
       "\n",
       "    .dataframe thead th {\n",
       "        text-align: right;\n",
       "    }\n",
       "</style>\n",
       "<table border=\"1\" class=\"dataframe\">\n",
       "  <thead>\n",
       "    <tr style=\"text-align: right;\">\n",
       "      <th></th>\n",
       "      <th>v1</th>\n",
       "      <th>label</th>\n",
       "      <th>v2</th>\n",
       "    </tr>\n",
       "  </thead>\n",
       "  <tbody>\n",
       "    <tr>\n",
       "      <th>0</th>\n",
       "      <td>ham</td>\n",
       "      <td>1</td>\n",
       "      <td>Go until jurong point, crazy.. Available only ...</td>\n",
       "    </tr>\n",
       "    <tr>\n",
       "      <th>1</th>\n",
       "      <td>ham</td>\n",
       "      <td>1</td>\n",
       "      <td>Ok lar... Joking wif u oni...</td>\n",
       "    </tr>\n",
       "    <tr>\n",
       "      <th>2</th>\n",
       "      <td>spam</td>\n",
       "      <td>0</td>\n",
       "      <td>Free entry in 2 a wkly comp to win FA Cup fina...</td>\n",
       "    </tr>\n",
       "    <tr>\n",
       "      <th>3</th>\n",
       "      <td>ham</td>\n",
       "      <td>1</td>\n",
       "      <td>U dun say so early hor... U c already then say...</td>\n",
       "    </tr>\n",
       "    <tr>\n",
       "      <th>4</th>\n",
       "      <td>ham</td>\n",
       "      <td>1</td>\n",
       "      <td>Nah I don't think he goes to usf, he lives aro...</td>\n",
       "    </tr>\n",
       "  </tbody>\n",
       "</table>\n",
       "</div>"
      ],
      "text/plain": [
       "     v1  label                                                 v2\n",
       "0   ham      1  Go until jurong point, crazy.. Available only ...\n",
       "1   ham      1                      Ok lar... Joking wif u oni...\n",
       "2  spam      0  Free entry in 2 a wkly comp to win FA Cup fina...\n",
       "3   ham      1  U dun say so early hor... U c already then say...\n",
       "4   ham      1  Nah I don't think he goes to usf, he lives aro..."
      ]
     },
     "execution_count": 14,
     "metadata": {},
     "output_type": "execute_result"
    }
   ],
   "source": [
    "data2 = data2[[\"v1\",\"label\",\"v2\"]]\n",
    "data2.head()"
   ]
  },
  {
   "cell_type": "markdown",
   "id": "27a9d29e",
   "metadata": {},
   "source": [
    "# Train Test Split"
   ]
  },
  {
   "cell_type": "code",
   "execution_count": 73,
   "id": "61b127ff",
   "metadata": {},
   "outputs": [],
   "source": [
    "from sklearn.model_selection import train_test_split"
   ]
  },
  {
   "cell_type": "code",
   "execution_count": 126,
   "id": "af153a31",
   "metadata": {},
   "outputs": [],
   "source": [
    "X = data2[\"v2\"]\n",
    "y= data2[\"v1\"]"
   ]
  },
  {
   "cell_type": "code",
   "execution_count": 127,
   "id": "1f6b141c",
   "metadata": {},
   "outputs": [],
   "source": [
    "X_train, X_test, y_train, y_test = train_test_split(X, y, test_size=0.2, stratify=y, random_state=101)"
   ]
  },
  {
   "cell_type": "markdown",
   "id": "fd50bf34",
   "metadata": {},
   "source": [
    "# Vectorization"
   ]
  },
  {
   "cell_type": "code",
   "execution_count": 128,
   "id": "4e57df1e",
   "metadata": {},
   "outputs": [],
   "source": [
    "from sklearn.feature_extraction.text import CountVectorizer"
   ]
  },
  {
   "cell_type": "code",
   "execution_count": 129,
   "id": "c8719aa5",
   "metadata": {},
   "outputs": [],
   "source": [
    "vectorizer = CountVectorizer(preprocessor=cleaning, min_df=3) # ngram_range=(1,2), max_features= 1500\n",
    "X_train_count = vectorizer.fit_transform(X_train)\n",
    "X_test_count = vectorizer.transform(X_test)"
   ]
  },
  {
   "cell_type": "code",
   "execution_count": 130,
   "id": "333e4fcc",
   "metadata": {},
   "outputs": [
    {
     "data": {
      "text/plain": [
       "array([[0, 0, 0, ..., 0, 0, 0],\n",
       "       [0, 0, 0, ..., 0, 0, 0],\n",
       "       [0, 0, 0, ..., 0, 0, 0],\n",
       "       ...,\n",
       "       [0, 0, 0, ..., 0, 0, 0],\n",
       "       [0, 0, 0, ..., 0, 0, 0],\n",
       "       [0, 0, 0, ..., 0, 0, 0]], dtype=int64)"
      ]
     },
     "execution_count": 130,
     "metadata": {},
     "output_type": "execute_result"
    }
   ],
   "source": [
    "X_train_count.toarray()"
   ]
  },
  {
   "cell_type": "code",
   "execution_count": 131,
   "id": "f6a70201",
   "metadata": {},
   "outputs": [],
   "source": [
    "#pd.DataFrame(X_train_count.toarray(), columns = vectorizer.get_feature_names_out())"
   ]
  },
  {
   "cell_type": "markdown",
   "id": "09f6293b",
   "metadata": {},
   "source": [
    "# Model Comparisons - Vectorization"
   ]
  },
  {
   "cell_type": "code",
   "execution_count": 132,
   "id": "bdc7ad99",
   "metadata": {},
   "outputs": [],
   "source": [
    "from sklearn.metrics import confusion_matrix, classification_report, f1_score, recall_score"
   ]
  },
  {
   "cell_type": "code",
   "execution_count": 133,
   "id": "7c88bf52",
   "metadata": {},
   "outputs": [],
   "source": [
    "def eval(model, X_train, X_test):\n",
    "    y_pred = model.predict(X_test)\n",
    "    y_pred_train = model.predict(X_train)\n",
    "    print(confusion_matrix(y_test, y_pred))\n",
    "    print(\"Test_Set\")\n",
    "    print(classification_report(y_test,y_pred))\n",
    "    print(\"Train_Set\")\n",
    "    print(classification_report(y_train,y_pred_train))"
   ]
  },
  {
   "cell_type": "markdown",
   "id": "dadee2a3",
   "metadata": {},
   "source": [
    "# Naive Bayes"
   ]
  },
  {
   "cell_type": "code",
   "execution_count": 134,
   "id": "b4d69cd8",
   "metadata": {},
   "outputs": [],
   "source": [
    "from sklearn.naive_bayes import MultinomialNB, BernoulliNB # BernoulliNB for binary model"
   ]
  },
  {
   "cell_type": "code",
   "execution_count": 135,
   "id": "691c89d5",
   "metadata": {},
   "outputs": [
    {
     "data": {
      "text/plain": [
       "MultinomialNB(alpha=3)"
      ]
     },
     "execution_count": 135,
     "metadata": {},
     "output_type": "execute_result"
    }
   ],
   "source": [
    "nb = MultinomialNB(alpha=3) \n",
    "nb.fit(X_train_count,y_train)"
   ]
  },
  {
   "cell_type": "code",
   "execution_count": 136,
   "id": "94268f18",
   "metadata": {},
   "outputs": [
    {
     "name": "stdout",
     "output_type": "stream",
     "text": [
      "NB MODEL\n",
      "[[960   6]\n",
      " [ 12 137]]\n",
      "Test_Set\n",
      "              precision    recall  f1-score   support\n",
      "\n",
      "         ham       0.99      0.99      0.99       966\n",
      "        spam       0.96      0.92      0.94       149\n",
      "\n",
      "    accuracy                           0.98      1115\n",
      "   macro avg       0.97      0.96      0.96      1115\n",
      "weighted avg       0.98      0.98      0.98      1115\n",
      "\n",
      "Train_Set\n",
      "              precision    recall  f1-score   support\n",
      "\n",
      "         ham       0.99      0.99      0.99      3859\n",
      "        spam       0.94      0.92      0.93       598\n",
      "\n",
      "    accuracy                           0.98      4457\n",
      "   macro avg       0.96      0.96      0.96      4457\n",
      "weighted avg       0.98      0.98      0.98      4457\n",
      "\n"
     ]
    }
   ],
   "source": [
    "print(\"NB MODEL\")\n",
    "eval(nb, X_train_count, X_test_count)"
   ]
  },
  {
   "cell_type": "code",
   "execution_count": 137,
   "id": "b00f1d1d",
   "metadata": {},
   "outputs": [
    {
     "data": {
      "text/plain": [
       "test_accuracy          0.973077\n",
       "test_precision-spam    0.901716\n",
       "test_recall-spam       0.897994\n",
       "test_f1-spam           0.899517\n",
       "dtype: float64"
      ]
     },
     "execution_count": 137,
     "metadata": {},
     "output_type": "execute_result"
    }
   ],
   "source": [
    "from sklearn.model_selection import cross_validate\n",
    "from sklearn.metrics import make_scorer\n",
    "from sklearn.metrics import f1_score, accuracy_score, precision_score, recall_score\n",
    "scoring = {'accuracy': make_scorer(accuracy_score),\n",
    "            'precision-spam': make_scorer(precision_score, average=None, labels=[\"spam\"]),\n",
    "            'recall-spam': make_scorer(recall_score, average=None, labels = [\"spam\"]),\n",
    "            'f1-spam': make_scorer(f1_score, average=None, labels = [\"spam\"])}\n",
    "\n",
    "model = MultinomialNB(alpha=3)\n",
    "scores = cross_validate(model, X_train_count, y_train, scoring = scoring, cv = 10)\n",
    "df_scores = pd.DataFrame(scores, index = range(1, 11))\n",
    "df_scores.mean()[2:]"
   ]
  },
  {
   "cell_type": "code",
   "execution_count": 138,
   "id": "3d56dca7",
   "metadata": {},
   "outputs": [
    {
     "data": {
      "text/plain": [
       "array(['ham', 'spam'], dtype='<U4')"
      ]
     },
     "execution_count": 138,
     "metadata": {},
     "output_type": "execute_result"
    }
   ],
   "source": [
    "nb.classes_"
   ]
  },
  {
   "cell_type": "code",
   "execution_count": 139,
   "id": "5ddeca63",
   "metadata": {},
   "outputs": [],
   "source": [
    "y_pred = nb.predict(X_test_count)   #prediction                                         \n",
    "nb_count_rec_spam = recall_score(y_test, y_pred, labels = [\"spam\"], average = None)\n",
    "nb_count_f1_spam = f1_score(y_test, y_pred, labels = [\"spam\"], average = None)"
   ]
  },
  {
   "cell_type": "markdown",
   "id": "b4ff0fa4",
   "metadata": {},
   "source": [
    "# Logistic Regression"
   ]
  },
  {
   "cell_type": "code",
   "execution_count": 160,
   "id": "fb6e6bb3",
   "metadata": {},
   "outputs": [
    {
     "data": {
      "text/plain": [
       "LogisticRegression(class_weight='balanced', max_iter=1000)"
      ]
     },
     "execution_count": 160,
     "metadata": {},
     "output_type": "execute_result"
    }
   ],
   "source": [
    "from sklearn.linear_model import LogisticRegression\n",
    "log = LogisticRegression(max_iter=1000, class_weight='balanced')\n",
    "log.fit(X_train_count,y_train)"
   ]
  },
  {
   "cell_type": "code",
   "execution_count": 161,
   "id": "544cbcc8",
   "metadata": {},
   "outputs": [
    {
     "name": "stdout",
     "output_type": "stream",
     "text": [
      "LOG MODEL\n",
      "[[954  12]\n",
      " [ 15 134]]\n",
      "Test_Set\n",
      "              precision    recall  f1-score   support\n",
      "\n",
      "         ham       0.98      0.99      0.99       966\n",
      "        spam       0.92      0.90      0.91       149\n",
      "\n",
      "    accuracy                           0.98      1115\n",
      "   macro avg       0.95      0.94      0.95      1115\n",
      "weighted avg       0.98      0.98      0.98      1115\n",
      "\n",
      "Train_Set\n",
      "              precision    recall  f1-score   support\n",
      "\n",
      "         ham       1.00      1.00      1.00      3859\n",
      "        spam       0.97      0.99      0.98       598\n",
      "\n",
      "    accuracy                           0.99      4457\n",
      "   macro avg       0.98      0.99      0.99      4457\n",
      "weighted avg       0.99      0.99      0.99      4457\n",
      "\n"
     ]
    }
   ],
   "source": [
    "print(\"LOG MODEL\")\n",
    "eval(log, X_train_count, X_test_count)"
   ]
  },
  {
   "cell_type": "code",
   "execution_count": 162,
   "id": "49bbb9e5",
   "metadata": {},
   "outputs": [
    {
     "data": {
      "text/plain": [
       "test_accuracy          0.977562\n",
       "test_precision-spam    0.925162\n",
       "test_recall-spam       0.907994\n",
       "test_f1-spam           0.915660\n",
       "dtype: float64"
      ]
     },
     "execution_count": 162,
     "metadata": {},
     "output_type": "execute_result"
    }
   ],
   "source": [
    "model = LogisticRegression(max_iter=1000, class_weight='balanced')\n",
    "scores = cross_validate(model, X_train_count, y_train, scoring = scoring, cv = 10)\n",
    "df_scores = pd.DataFrame(scores, index = range(1, 11))\n",
    "df_scores.mean()[2:]"
   ]
  },
  {
   "cell_type": "markdown",
   "id": "eaf73052",
   "metadata": {},
   "source": [
    "# Grid Search "
   ]
  },
  {
   "cell_type": "code",
   "execution_count": 151,
   "id": "7ccbc6e1",
   "metadata": {},
   "outputs": [],
   "source": [
    "from sklearn.model_selection import GridSearchCV\n",
    "\n",
    "model = LogisticRegression()\n",
    "\n",
    "penalty = [\"l1\", \"l2\"]\n",
    "C = np.logspace(-1, 5, 20)\n",
    "class_weight= [\"balanced\", None] \n",
    "# The \"balanced\" mode uses the values of y to automatically adjust weights inversely proportional to class frequencies \n",
    "# in the input data\n",
    "solver = [\"liblinear\", \"sag\", \"saga\"]\n",
    "\n",
    "param_grid = {\"penalty\" : penalty,\n",
    "              \"C\" : C,\n",
    "              \"class_weight\":class_weight,\n",
    "              \"solver\":solver}\n",
    "\n",
    "\n",
    "grid_model = GridSearchCV(estimator=model,\n",
    "                          param_grid=param_grid,\n",
    "                          cv=10,\n",
    "                          scoring = \"recall\",   #f1_0 = make_scorer(f1_score, pos_label =0)\n",
    "                          n_jobs = -1)"
   ]
  },
  {
   "cell_type": "code",
   "execution_count": 152,
   "id": "fcdced98",
   "metadata": {},
   "outputs": [
    {
     "data": {
      "text/plain": [
       "GridSearchCV(cv=10, estimator=LogisticRegression(), n_jobs=-1,\n",
       "             param_grid={'C': array([1.00000000e-01, 2.06913808e-01, 4.28133240e-01, 8.85866790e-01,\n",
       "       1.83298071e+00, 3.79269019e+00, 7.84759970e+00, 1.62377674e+01,\n",
       "       3.35981829e+01, 6.95192796e+01, 1.43844989e+02, 2.97635144e+02,\n",
       "       6.15848211e+02, 1.27427499e+03, 2.63665090e+03, 5.45559478e+03,\n",
       "       1.12883789e+04, 2.33572147e+04, 4.83293024e+04, 1.00000000e+05]),\n",
       "                         'class_weight': ['balanced', None],\n",
       "                         'penalty': ['l1', 'l2'],\n",
       "                         'solver': ['liblinear', 'sag', 'saga']},\n",
       "             scoring='recall')"
      ]
     },
     "execution_count": 152,
     "metadata": {},
     "output_type": "execute_result"
    }
   ],
   "source": [
    "grid_model.fit(X_train_count,y_train)"
   ]
  },
  {
   "cell_type": "code",
   "execution_count": 153,
   "id": "b72bf841",
   "metadata": {},
   "outputs": [
    {
     "data": {
      "text/plain": [
       "{'C': 0.1, 'class_weight': 'balanced', 'penalty': 'l1', 'solver': 'liblinear'}"
      ]
     },
     "execution_count": 153,
     "metadata": {},
     "output_type": "execute_result"
    }
   ],
   "source": [
    "grid_model.best_params_"
   ]
  },
  {
   "cell_type": "code",
   "execution_count": 163,
   "id": "7a6e6353",
   "metadata": {},
   "outputs": [
    {
     "name": "stdout",
     "output_type": "stream",
     "text": [
      "[[922  44]\n",
      " [ 21 128]]\n",
      "Test_Set\n",
      "              precision    recall  f1-score   support\n",
      "\n",
      "         ham       0.98      0.95      0.97       966\n",
      "        spam       0.74      0.86      0.80       149\n",
      "\n",
      "    accuracy                           0.94      1115\n",
      "   macro avg       0.86      0.91      0.88      1115\n",
      "weighted avg       0.95      0.94      0.94      1115\n",
      "\n",
      "Train_Set\n",
      "              precision    recall  f1-score   support\n",
      "\n",
      "         ham       0.98      0.96      0.97      3859\n",
      "        spam       0.77      0.88      0.82       598\n",
      "\n",
      "    accuracy                           0.95      4457\n",
      "   macro avg       0.87      0.92      0.90      4457\n",
      "weighted avg       0.95      0.95      0.95      4457\n",
      "\n"
     ]
    }
   ],
   "source": [
    "eval(grid_model, X_train_count, X_test_count)"
   ]
  },
  {
   "cell_type": "code",
   "execution_count": 165,
   "id": "4d8f2ce3",
   "metadata": {},
   "outputs": [
    {
     "data": {
      "text/plain": [
       "LogisticRegression(C=0.1, class_weight='balanced', max_iter=1000, penalty='l1',\n",
       "                   solver='liblinear')"
      ]
     },
     "execution_count": 165,
     "metadata": {},
     "output_type": "execute_result"
    }
   ],
   "source": [
    "from sklearn.linear_model import LogisticRegression\n",
    "log = LogisticRegression(C= 0.1, class_weight= 'balanced', penalty= 'l1', solver= 'liblinear', max_iter=1000)\n",
    "log.fit(X_train_count,y_train)"
   ]
  },
  {
   "cell_type": "code",
   "execution_count": 166,
   "id": "e38b581c",
   "metadata": {},
   "outputs": [
    {
     "name": "stdout",
     "output_type": "stream",
     "text": [
      "LOG FINAL MODEL\n",
      "[[922  44]\n",
      " [ 21 128]]\n",
      "Test_Set\n",
      "              precision    recall  f1-score   support\n",
      "\n",
      "         ham       0.98      0.95      0.97       966\n",
      "        spam       0.74      0.86      0.80       149\n",
      "\n",
      "    accuracy                           0.94      1115\n",
      "   macro avg       0.86      0.91      0.88      1115\n",
      "weighted avg       0.95      0.94      0.94      1115\n",
      "\n",
      "Train_Set\n",
      "              precision    recall  f1-score   support\n",
      "\n",
      "         ham       0.98      0.96      0.97      3859\n",
      "        spam       0.77      0.88      0.82       598\n",
      "\n",
      "    accuracy                           0.95      4457\n",
      "   macro avg       0.87      0.92      0.90      4457\n",
      "weighted avg       0.95      0.95      0.95      4457\n",
      "\n"
     ]
    }
   ],
   "source": [
    "print(\"LOG FINAL MODEL\")\n",
    "eval(log, X_train_count, X_test_count)"
   ]
  },
  {
   "cell_type": "code",
   "execution_count": 167,
   "id": "0969efb3",
   "metadata": {},
   "outputs": [],
   "source": [
    "y_pred = log.predict(X_test_count)   #prediction                                         \n",
    "log_count_rec_spam = recall_score(y_test, y_pred, labels = [\"spam\"], average = None)\n",
    "log_count_f1_spam = f1_score(y_test, y_pred, labels = [\"spam\"], average = None)"
   ]
  },
  {
   "cell_type": "code",
   "execution_count": null,
   "id": "2cacc370",
   "metadata": {},
   "outputs": [],
   "source": []
  },
  {
   "cell_type": "markdown",
   "id": "7b894e41",
   "metadata": {},
   "source": [
    "# SVM"
   ]
  },
  {
   "cell_type": "code",
   "execution_count": 173,
   "id": "910c409a",
   "metadata": {},
   "outputs": [
    {
     "data": {
      "text/plain": [
       "LinearSVC(C=0.1, class_weight='balanced')"
      ]
     },
     "execution_count": 173,
     "metadata": {},
     "output_type": "execute_result"
    }
   ],
   "source": [
    "from sklearn.svm import LinearSVC\n",
    "svc = LinearSVC(C =0.1, class_weight= 'balanced', max_iter=1000)\n",
    "svc.fit(X_train_count,y_train)"
   ]
  },
  {
   "cell_type": "code",
   "execution_count": 175,
   "id": "449951ed",
   "metadata": {},
   "outputs": [
    {
     "name": "stdout",
     "output_type": "stream",
     "text": [
      "SVC MODEL\n",
      "[[953  13]\n",
      " [ 16 133]]\n",
      "Test_Set\n",
      "              precision    recall  f1-score   support\n",
      "\n",
      "         ham       0.98      0.99      0.99       966\n",
      "        spam       0.91      0.89      0.90       149\n",
      "\n",
      "    accuracy                           0.97      1115\n",
      "   macro avg       0.95      0.94      0.94      1115\n",
      "weighted avg       0.97      0.97      0.97      1115\n",
      "\n",
      "Train_Set\n",
      "              precision    recall  f1-score   support\n",
      "\n",
      "         ham       1.00      1.00      1.00      3859\n",
      "        spam       0.97      0.99      0.98       598\n",
      "\n",
      "    accuracy                           1.00      4457\n",
      "   macro avg       0.99      0.99      0.99      4457\n",
      "weighted avg       1.00      1.00      1.00      4457\n",
      "\n"
     ]
    }
   ],
   "source": [
    "print(\"SVC MODEL\")\n",
    "eval(svc, X_train_count, X_test_count)"
   ]
  },
  {
   "cell_type": "code",
   "execution_count": 176,
   "id": "9e8f50aa",
   "metadata": {},
   "outputs": [
    {
     "data": {
      "text/plain": [
       "test_accuracy          0.977788\n",
       "test_precision-spam    0.929208\n",
       "test_recall-spam       0.904661\n",
       "test_f1-spam           0.916141\n",
       "dtype: float64"
      ]
     },
     "execution_count": 176,
     "metadata": {},
     "output_type": "execute_result"
    }
   ],
   "source": [
    "model = LinearSVC(C=0.1, class_weight= 'balanced', max_iter=1000)\n",
    "scores = cross_validate(model, X_train_count, y_train, scoring = scoring, cv = 10)\n",
    "df_scores = pd.DataFrame(scores, index = range(1, 11))\n",
    "df_scores.mean()[2:]"
   ]
  },
  {
   "cell_type": "code",
   "execution_count": 177,
   "id": "261e9095",
   "metadata": {},
   "outputs": [],
   "source": [
    "y_pred = svc.predict(X_test_count)   #prediction                                         \n",
    "svc_count_rec_spam = recall_score(y_test, y_pred, labels = [\"spam\"], average = None)\n",
    "svc_count_f1_spam = f1_score(y_test, y_pred, labels = [\"spam\"], average = None)"
   ]
  },
  {
   "cell_type": "markdown",
   "id": "c0924117",
   "metadata": {},
   "source": [
    "# KNN"
   ]
  },
  {
   "cell_type": "code",
   "execution_count": 188,
   "id": "30ce7fd0",
   "metadata": {},
   "outputs": [
    {
     "data": {
      "text/plain": [
       "KNeighborsClassifier()"
      ]
     },
     "execution_count": 188,
     "metadata": {},
     "output_type": "execute_result"
    }
   ],
   "source": [
    "from sklearn.neighbors import KNeighborsClassifier\n",
    "knn = KNeighborsClassifier(n_neighbors=5)\n",
    "knn.fit(X_train_count,y_train)"
   ]
  },
  {
   "cell_type": "code",
   "execution_count": 189,
   "id": "f4dba940",
   "metadata": {},
   "outputs": [
    {
     "name": "stdout",
     "output_type": "stream",
     "text": [
      "KNN MODEL\n",
      "[[965   1]\n",
      " [ 81  68]]\n",
      "Test_Set\n",
      "              precision    recall  f1-score   support\n",
      "\n",
      "         ham       0.92      1.00      0.96       966\n",
      "        spam       0.99      0.46      0.62       149\n",
      "\n",
      "    accuracy                           0.93      1115\n",
      "   macro avg       0.95      0.73      0.79      1115\n",
      "weighted avg       0.93      0.93      0.91      1115\n",
      "\n",
      "Train_Set\n",
      "              precision    recall  f1-score   support\n",
      "\n",
      "         ham       0.94      1.00      0.97      3859\n",
      "        spam       1.00      0.58      0.74       598\n",
      "\n",
      "    accuracy                           0.94      4457\n",
      "   macro avg       0.97      0.79      0.85      4457\n",
      "weighted avg       0.95      0.94      0.94      4457\n",
      "\n"
     ]
    }
   ],
   "source": [
    "print(\"KNN MODEL\")\n",
    "eval(knn, X_train_count, X_test_count)"
   ]
  },
  {
   "cell_type": "code",
   "execution_count": 190,
   "id": "0899d4cd",
   "metadata": {},
   "outputs": [
    {
     "data": {
      "text/plain": [
       "test_accuracy          0.917433\n",
       "test_precision-spam    1.000000\n",
       "test_recall-spam       0.384633\n",
       "test_f1-spam           0.553808\n",
       "dtype: float64"
      ]
     },
     "execution_count": 190,
     "metadata": {},
     "output_type": "execute_result"
    }
   ],
   "source": [
    "model = KNeighborsClassifier(n_neighbors=7)\n",
    "scores = cross_validate(model, X_train_count, y_train, scoring = scoring, cv = 10)\n",
    "df_scores = pd.DataFrame(scores, index = range(1, 11))\n",
    "df_scores.mean()[2:]"
   ]
  },
  {
   "cell_type": "code",
   "execution_count": 191,
   "id": "f2467160",
   "metadata": {},
   "outputs": [],
   "source": [
    "y_pred = knn.predict(X_test_count)   #prediction                                         \n",
    "knn_count_rec_spam = recall_score(y_test, y_pred, labels = [\"spam\"], average = None)\n",
    "knn_count_f1_spam = f1_score(y_test, y_pred, labels = [\"spam\"], average = None)"
   ]
  },
  {
   "cell_type": "markdown",
   "id": "d7955d40",
   "metadata": {},
   "source": [
    "# Random Forest"
   ]
  },
  {
   "cell_type": "code",
   "execution_count": 196,
   "id": "ed5dd434",
   "metadata": {},
   "outputs": [
    {
     "data": {
      "text/plain": [
       "RandomForestClassifier(class_weight='balanced', max_depth=20, n_jobs=-1,\n",
       "                       random_state=42)"
      ]
     },
     "execution_count": 196,
     "metadata": {},
     "output_type": "execute_result"
    }
   ],
   "source": [
    "from sklearn.ensemble import RandomForestClassifier\n",
    "rf = RandomForestClassifier(100, max_depth = 20, random_state = 42, n_jobs = -1, class_weight=\"balanced\")\n",
    "rf.fit(X_train_count, y_train)"
   ]
  },
  {
   "cell_type": "code",
   "execution_count": 197,
   "id": "5fa3e0ac",
   "metadata": {},
   "outputs": [
    {
     "name": "stdout",
     "output_type": "stream",
     "text": [
      "RF MODEL\n",
      "[[962   4]\n",
      " [ 24 125]]\n",
      "Test_Set\n",
      "              precision    recall  f1-score   support\n",
      "\n",
      "         ham       0.98      1.00      0.99       966\n",
      "        spam       0.97      0.84      0.90       149\n",
      "\n",
      "    accuracy                           0.97      1115\n",
      "   macro avg       0.97      0.92      0.94      1115\n",
      "weighted avg       0.97      0.97      0.97      1115\n",
      "\n",
      "Train_Set\n",
      "              precision    recall  f1-score   support\n",
      "\n",
      "         ham       0.98      1.00      0.99      3859\n",
      "        spam       0.98      0.89      0.93       598\n",
      "\n",
      "    accuracy                           0.98      4457\n",
      "   macro avg       0.98      0.94      0.96      4457\n",
      "weighted avg       0.98      0.98      0.98      4457\n",
      "\n"
     ]
    }
   ],
   "source": [
    "print(\"RF MODEL\")\n",
    "eval(rf, X_train_count, X_test_count)"
   ]
  },
  {
   "cell_type": "code",
   "execution_count": 198,
   "id": "f8637e9f",
   "metadata": {},
   "outputs": [
    {
     "data": {
      "text/plain": [
       "test_accuracy          0.971056\n",
       "test_precision-spam    0.993814\n",
       "test_recall-spam       0.789209\n",
       "test_f1-spam           0.879072\n",
       "dtype: float64"
      ]
     },
     "execution_count": 198,
     "metadata": {},
     "output_type": "execute_result"
    }
   ],
   "source": [
    "model = RandomForestClassifier(100, max_depth = 40, random_state = 42, n_jobs = -1)\n",
    "scores = cross_validate(model, X_train_count, y_train, scoring = scoring, cv = 10)\n",
    "df_scores = pd.DataFrame(scores, index = range(1, 11))\n",
    "df_scores.mean()[2:]"
   ]
  },
  {
   "cell_type": "code",
   "execution_count": 199,
   "id": "bdf49b0a",
   "metadata": {},
   "outputs": [],
   "source": [
    "y_pred = rf.predict(X_test_count)   #prediction                                         \n",
    "rf_count_rec_spam = recall_score(y_test, y_pred, labels = [\"spam\"], average = None)\n",
    "rf_count_f1_spam = f1_score(y_test, y_pred, labels = [\"spam\"], average = None)"
   ]
  },
  {
   "cell_type": "markdown",
   "id": "25aa0758",
   "metadata": {},
   "source": [
    "# Ada Boost"
   ]
  },
  {
   "cell_type": "code",
   "execution_count": 201,
   "id": "c3a99a0f",
   "metadata": {},
   "outputs": [
    {
     "data": {
      "text/plain": [
       "AdaBoostClassifier(n_estimators=500, random_state=42)"
      ]
     },
     "execution_count": 201,
     "metadata": {},
     "output_type": "execute_result"
    }
   ],
   "source": [
    "from sklearn.ensemble import AdaBoostClassifier\n",
    "ada = AdaBoostClassifier(n_estimators= 500, random_state = 42)\n",
    "ada.fit(X_train_count, y_train)"
   ]
  },
  {
   "cell_type": "code",
   "execution_count": 202,
   "id": "6b29f7fd",
   "metadata": {},
   "outputs": [
    {
     "name": "stdout",
     "output_type": "stream",
     "text": [
      "Ada MODEL\n",
      "[[955  11]\n",
      " [ 17 132]]\n",
      "Test_Set\n",
      "              precision    recall  f1-score   support\n",
      "\n",
      "         ham       0.98      0.99      0.99       966\n",
      "        spam       0.92      0.89      0.90       149\n",
      "\n",
      "    accuracy                           0.97      1115\n",
      "   macro avg       0.95      0.94      0.94      1115\n",
      "weighted avg       0.97      0.97      0.97      1115\n",
      "\n",
      "Train_Set\n",
      "              precision    recall  f1-score   support\n",
      "\n",
      "         ham       1.00      1.00      1.00      3859\n",
      "        spam       1.00      1.00      1.00       598\n",
      "\n",
      "    accuracy                           1.00      4457\n",
      "   macro avg       1.00      1.00      1.00      4457\n",
      "weighted avg       1.00      1.00      1.00      4457\n",
      "\n"
     ]
    }
   ],
   "source": [
    "print(\"Ada MODEL\")\n",
    "eval(ada, X_train_count, X_test_count)"
   ]
  },
  {
   "cell_type": "code",
   "execution_count": 203,
   "id": "7dc60658",
   "metadata": {},
   "outputs": [
    {
     "data": {
      "text/plain": [
       "test_accuracy          0.965227\n",
       "test_precision-spam    0.883124\n",
       "test_recall-spam       0.856299\n",
       "test_f1-spam           0.868362\n",
       "dtype: float64"
      ]
     },
     "execution_count": 203,
     "metadata": {},
     "output_type": "execute_result"
    }
   ],
   "source": [
    "model = AdaBoostClassifier(n_estimators= 500, random_state = 42)\n",
    "scores = cross_validate(model, X_train_count, y_train, scoring = scoring, cv = 10)\n",
    "df_scores = pd.DataFrame(scores, index = range(1, 11))\n",
    "df_scores.mean()[2:]"
   ]
  },
  {
   "cell_type": "code",
   "execution_count": 204,
   "id": "5972322a",
   "metadata": {},
   "outputs": [],
   "source": [
    "y_pred = ada.predict(X_test_count)   #prediction                                         \n",
    "ada_count_rec_spam = recall_score(y_test, y_pred, labels = [\"spam\"], average = None)\n",
    "ada_count_f1_spam = f1_score(y_test, y_pred, labels = [\"spam\"], average = None)"
   ]
  },
  {
   "cell_type": "markdown",
   "id": "8d123880",
   "metadata": {},
   "source": [
    "# TF-IDF"
   ]
  },
  {
   "cell_type": "code",
   "execution_count": 205,
   "id": "2f435578",
   "metadata": {},
   "outputs": [],
   "source": [
    "from sklearn.feature_extraction.text import TfidfVectorizer"
   ]
  },
  {
   "cell_type": "code",
   "execution_count": 206,
   "id": "dfb4f540",
   "metadata": {},
   "outputs": [],
   "source": [
    "tf_idf_vectorizer = TfidfVectorizer(preprocessor=cleaning, min_df=3) #min_df genelde 3 olmalı(corpusta en az 3 defa geçenler yoksay)\n",
    "X_train_tf_idf = tf_idf_vectorizer.fit_transform(X_train)\n",
    "X_test_tf_idf = tf_idf_vectorizer.transform(X_test)"
   ]
  },
  {
   "cell_type": "code",
   "execution_count": 207,
   "id": "2e2c3ac7",
   "metadata": {},
   "outputs": [
    {
     "data": {
      "text/plain": [
       "array([[0., 0., 0., ..., 0., 0., 0.],\n",
       "       [0., 0., 0., ..., 0., 0., 0.],\n",
       "       [0., 0., 0., ..., 0., 0., 0.],\n",
       "       ...,\n",
       "       [0., 0., 0., ..., 0., 0., 0.],\n",
       "       [0., 0., 0., ..., 0., 0., 0.],\n",
       "       [0., 0., 0., ..., 0., 0., 0.]])"
      ]
     },
     "execution_count": 207,
     "metadata": {},
     "output_type": "execute_result"
    }
   ],
   "source": [
    "X_train_tf_idf.toarray()"
   ]
  },
  {
   "cell_type": "code",
   "execution_count": 208,
   "id": "941d0946",
   "metadata": {},
   "outputs": [],
   "source": [
    "#pd.DataFrame(X_train_tf_idf.toarray(), columns = tf_idf_vectorizer.get_feature_names_out())"
   ]
  },
  {
   "cell_type": "markdown",
   "id": "61ffa8d3",
   "metadata": {},
   "source": [
    "# Model Comparisons TF-IDF"
   ]
  },
  {
   "cell_type": "markdown",
   "id": "7d6462a0",
   "metadata": {},
   "source": [
    "# Naive Bayes"
   ]
  },
  {
   "cell_type": "code",
   "execution_count": 211,
   "id": "c3e8565b",
   "metadata": {},
   "outputs": [
    {
     "data": {
      "text/plain": [
       "MultinomialNB()"
      ]
     },
     "execution_count": 211,
     "metadata": {},
     "output_type": "execute_result"
    }
   ],
   "source": [
    "from sklearn.naive_bayes import MultinomialNB, BernoulliNB\n",
    "nb = MultinomialNB()\n",
    "nb.fit(X_train_tf_idf,y_train)"
   ]
  },
  {
   "cell_type": "code",
   "execution_count": 212,
   "id": "0d6366b9",
   "metadata": {},
   "outputs": [
    {
     "name": "stdout",
     "output_type": "stream",
     "text": [
      "NB MODEL\n",
      "[[964   2]\n",
      " [ 29 120]]\n",
      "Test_Set\n",
      "              precision    recall  f1-score   support\n",
      "\n",
      "         ham       0.97      1.00      0.98       966\n",
      "        spam       0.98      0.81      0.89       149\n",
      "\n",
      "    accuracy                           0.97      1115\n",
      "   macro avg       0.98      0.90      0.93      1115\n",
      "weighted avg       0.97      0.97      0.97      1115\n",
      "\n",
      "Train_Set\n",
      "              precision    recall  f1-score   support\n",
      "\n",
      "         ham       0.98      1.00      0.99      3859\n",
      "        spam       0.99      0.85      0.92       598\n",
      "\n",
      "    accuracy                           0.98      4457\n",
      "   macro avg       0.99      0.92      0.95      4457\n",
      "weighted avg       0.98      0.98      0.98      4457\n",
      "\n"
     ]
    }
   ],
   "source": [
    "print(\"NB MODEL\")\n",
    "eval(nb, X_train_tf_idf, X_test_tf_idf)"
   ]
  },
  {
   "cell_type": "code",
   "execution_count": 213,
   "id": "650df9cf",
   "metadata": {},
   "outputs": [
    {
     "data": {
      "text/plain": [
       "test_accuracy          0.974423\n",
       "test_precision-spam    0.988234\n",
       "test_recall-spam       0.819379\n",
       "test_f1-spam           0.895567\n",
       "dtype: float64"
      ]
     },
     "execution_count": 213,
     "metadata": {},
     "output_type": "execute_result"
    }
   ],
   "source": [
    "model = MultinomialNB()\n",
    "scores = cross_validate(model, X_train_tf_idf, y_train, scoring = scoring, cv = 10)\n",
    "df_scores = pd.DataFrame(scores, index = range(1, 11))\n",
    "df_scores.mean()[2:]"
   ]
  },
  {
   "cell_type": "code",
   "execution_count": 214,
   "id": "07e2c108",
   "metadata": {},
   "outputs": [],
   "source": [
    "y_pred = nb.predict(X_test_tf_idf)\n",
    "nb_tfidf_rec_spam = recall_score(y_test, y_pred, labels = [\"spam\"], average = None)\n",
    "nb_tfidf_f1_spam = f1_score(y_test, y_pred, labels = [\"spam\"], average = None)"
   ]
  },
  {
   "cell_type": "markdown",
   "id": "67de9184",
   "metadata": {},
   "source": [
    "# Logistic Regression"
   ]
  },
  {
   "cell_type": "code",
   "execution_count": 215,
   "id": "51dc3e81",
   "metadata": {},
   "outputs": [
    {
     "data": {
      "text/plain": [
       "LogisticRegression(C=0.1, class_weight='balanced', max_iter=1000, penalty='l1',\n",
       "                   solver='liblinear')"
      ]
     },
     "execution_count": 215,
     "metadata": {},
     "output_type": "execute_result"
    }
   ],
   "source": [
    "from sklearn.linear_model import LogisticRegression\n",
    "log = LogisticRegression(C= 0.1, class_weight= 'balanced', penalty= 'l1', solver= 'liblinear', max_iter=1000)\n",
    "log.fit(X_train_tf_idf,y_train)"
   ]
  },
  {
   "cell_type": "code",
   "execution_count": 216,
   "id": "11ed2a1b",
   "metadata": {},
   "outputs": [
    {
     "name": "stdout",
     "output_type": "stream",
     "text": [
      "LOG MODEL\n",
      "[[905  61]\n",
      " [ 28 121]]\n",
      "Test_Set\n",
      "              precision    recall  f1-score   support\n",
      "\n",
      "         ham       0.97      0.94      0.95       966\n",
      "        spam       0.66      0.81      0.73       149\n",
      "\n",
      "    accuracy                           0.92      1115\n",
      "   macro avg       0.82      0.87      0.84      1115\n",
      "weighted avg       0.93      0.92      0.92      1115\n",
      "\n",
      "Train_Set\n",
      "              precision    recall  f1-score   support\n",
      "\n",
      "         ham       0.97      0.94      0.95      3859\n",
      "        spam       0.67      0.82      0.74       598\n",
      "\n",
      "    accuracy                           0.92      4457\n",
      "   macro avg       0.82      0.88      0.84      4457\n",
      "weighted avg       0.93      0.92      0.92      4457\n",
      "\n"
     ]
    }
   ],
   "source": [
    "print(\"LOG MODEL\")\n",
    "eval(log, X_train_tf_idf, X_test_tf_idf)"
   ]
  },
  {
   "cell_type": "code",
   "execution_count": 217,
   "id": "6236b3be",
   "metadata": {},
   "outputs": [
    {
     "data": {
      "text/plain": [
       "test_accuracy          0.916761\n",
       "test_precision-spam    0.657241\n",
       "test_recall-spam       0.806045\n",
       "test_f1-spam           0.722485\n",
       "dtype: float64"
      ]
     },
     "execution_count": 217,
     "metadata": {},
     "output_type": "execute_result"
    }
   ],
   "source": [
    "model = LogisticRegression(C= 0.1, class_weight= 'balanced', penalty= 'l1', solver= 'liblinear', max_iter=1000)\n",
    "scores = cross_validate(model, X_train_tf_idf, y_train, scoring = scoring, cv = 10)\n",
    "df_scores = pd.DataFrame(scores, index = range(1, 11))\n",
    "df_scores.mean()[2:]"
   ]
  },
  {
   "cell_type": "code",
   "execution_count": 218,
   "id": "1ca86e0d",
   "metadata": {},
   "outputs": [],
   "source": [
    "y_pred = log.predict(X_test_tf_idf)\n",
    "log_tfidf_rec_spam = recall_score(y_test, y_pred, labels = [\"spam\"], average = None)\n",
    "log_tfidf_f1_spam = f1_score(y_test, y_pred, labels = [\"spam\"], average = None)"
   ]
  },
  {
   "cell_type": "markdown",
   "id": "7ca8f9bb",
   "metadata": {},
   "source": [
    "# SVM"
   ]
  },
  {
   "cell_type": "code",
   "execution_count": 219,
   "id": "af2311e0",
   "metadata": {},
   "outputs": [
    {
     "data": {
      "text/plain": [
       "LinearSVC(C=0.1, class_weight='balanced')"
      ]
     },
     "execution_count": 219,
     "metadata": {},
     "output_type": "execute_result"
    }
   ],
   "source": [
    "from sklearn.svm import LinearSVC\n",
    "svc = LinearSVC(C=0.1, class_weight= 'balanced', max_iter=1000)\n",
    "svc.fit(X_train_tf_idf,y_train)"
   ]
  },
  {
   "cell_type": "code",
   "execution_count": 220,
   "id": "38aa1ce7",
   "metadata": {},
   "outputs": [
    {
     "name": "stdout",
     "output_type": "stream",
     "text": [
      "SVC MODEL\n",
      "[[957   9]\n",
      " [ 12 137]]\n",
      "Test_Set\n",
      "              precision    recall  f1-score   support\n",
      "\n",
      "         ham       0.99      0.99      0.99       966\n",
      "        spam       0.94      0.92      0.93       149\n",
      "\n",
      "    accuracy                           0.98      1115\n",
      "   macro avg       0.96      0.96      0.96      1115\n",
      "weighted avg       0.98      0.98      0.98      1115\n",
      "\n",
      "Train_Set\n",
      "              precision    recall  f1-score   support\n",
      "\n",
      "         ham       1.00      0.99      0.99      3859\n",
      "        spam       0.92      0.98      0.95       598\n",
      "\n",
      "    accuracy                           0.99      4457\n",
      "   macro avg       0.96      0.98      0.97      4457\n",
      "weighted avg       0.99      0.99      0.99      4457\n",
      "\n"
     ]
    }
   ],
   "source": [
    "print(\"SVC MODEL\")\n",
    "eval(svc, X_train_tf_idf, X_test_tf_idf)"
   ]
  },
  {
   "cell_type": "code",
   "execution_count": 221,
   "id": "7448b898",
   "metadata": {},
   "outputs": [
    {
     "data": {
      "text/plain": [
       "test_accuracy          0.975546\n",
       "test_precision-spam    0.906683\n",
       "test_recall-spam       0.914746\n",
       "test_f1-spam           0.909641\n",
       "dtype: float64"
      ]
     },
     "execution_count": 221,
     "metadata": {},
     "output_type": "execute_result"
    }
   ],
   "source": [
    "model = LinearSVC(C=0.1, class_weight= 'balanced', max_iter=1000)\n",
    "scores = cross_validate(model, X_train_tf_idf, y_train, scoring = scoring, cv = 10)\n",
    "df_scores = pd.DataFrame(scores, index = range(1, 11))\n",
    "df_scores.mean()[2:]"
   ]
  },
  {
   "cell_type": "code",
   "execution_count": 241,
   "id": "8653af62",
   "metadata": {},
   "outputs": [],
   "source": [
    "y_pred = svc.predict(X_test_tf_idf)\n",
    "svc_tfidf_rec_spam = recall_score(y_test, y_pred, labels = [\"spam\"], average = None)\n",
    "svc_tfidf_f1_spam = f1_score(y_test, y_pred, labels = [\"spam\"], average = None)"
   ]
  },
  {
   "cell_type": "markdown",
   "id": "271ae07a",
   "metadata": {},
   "source": [
    "# KNN"
   ]
  },
  {
   "cell_type": "code",
   "execution_count": 224,
   "id": "3908bbc3",
   "metadata": {},
   "outputs": [
    {
     "data": {
      "text/plain": [
       "KNeighborsClassifier(weights='distance')"
      ]
     },
     "execution_count": 224,
     "metadata": {},
     "output_type": "execute_result"
    }
   ],
   "source": [
    "from sklearn.neighbors import KNeighborsClassifier\n",
    "knn = KNeighborsClassifier(n_neighbors=5, weights='distance')\n",
    "knn.fit(X_train_tf_idf,y_train)"
   ]
  },
  {
   "cell_type": "code",
   "execution_count": 225,
   "id": "86018322",
   "metadata": {},
   "outputs": [
    {
     "name": "stdout",
     "output_type": "stream",
     "text": [
      "KNN MODEL\n",
      "[[966   0]\n",
      " [ 62  87]]\n",
      "Test_Set\n",
      "              precision    recall  f1-score   support\n",
      "\n",
      "         ham       0.94      1.00      0.97       966\n",
      "        spam       1.00      0.58      0.74       149\n",
      "\n",
      "    accuracy                           0.94      1115\n",
      "   macro avg       0.97      0.79      0.85      1115\n",
      "weighted avg       0.95      0.94      0.94      1115\n",
      "\n",
      "Train_Set\n",
      "              precision    recall  f1-score   support\n",
      "\n",
      "         ham       1.00      1.00      1.00      3859\n",
      "        spam       1.00      1.00      1.00       598\n",
      "\n",
      "    accuracy                           1.00      4457\n",
      "   macro avg       1.00      1.00      1.00      4457\n",
      "weighted avg       1.00      1.00      1.00      4457\n",
      "\n"
     ]
    }
   ],
   "source": [
    "print(\"KNN MODEL\")\n",
    "eval(knn, X_train_tf_idf, X_test_tf_idf)"
   ]
  },
  {
   "cell_type": "code",
   "execution_count": 226,
   "id": "77e3ca23",
   "metadata": {},
   "outputs": [
    {
     "data": {
      "text/plain": [
       "test_accuracy          0.913395\n",
       "test_precision-spam    1.000000\n",
       "test_recall-spam       0.354548\n",
       "test_f1-spam           0.521683\n",
       "dtype: float64"
      ]
     },
     "execution_count": 226,
     "metadata": {},
     "output_type": "execute_result"
    }
   ],
   "source": [
    "model = KNeighborsClassifier(n_neighbors=7)\n",
    "scores = cross_validate(model, X_train_tf_idf, y_train, scoring = scoring, cv = 10)\n",
    "df_scores = pd.DataFrame(scores, index = range(1, 11))\n",
    "df_scores.mean()[2:]"
   ]
  },
  {
   "cell_type": "code",
   "execution_count": 228,
   "id": "3cb7a195",
   "metadata": {},
   "outputs": [],
   "source": [
    "y_pred = knn.predict(X_test_tf_idf)\n",
    "knn_tfidf_rec_spam = recall_score(y_test, y_pred, labels = [\"spam\"], average = None)\n",
    "knn_tfidf_f1_spam = f1_score(y_test, y_pred, labels = [\"spam\"], average = None)"
   ]
  },
  {
   "cell_type": "markdown",
   "id": "f4506c4b",
   "metadata": {},
   "source": [
    "# RandomForest"
   ]
  },
  {
   "cell_type": "code",
   "execution_count": 231,
   "id": "e1a9cf45",
   "metadata": {},
   "outputs": [
    {
     "data": {
      "text/plain": [
       "RandomForestClassifier(class_weight='balanced', max_depth=20, n_jobs=-1,\n",
       "                       random_state=42)"
      ]
     },
     "execution_count": 231,
     "metadata": {},
     "output_type": "execute_result"
    }
   ],
   "source": [
    "rf = RandomForestClassifier(100, max_depth = 20, random_state = 42, n_jobs = -1, class_weight=\"balanced\")\n",
    "rf.fit(X_train_tf_idf, y_train)"
   ]
  },
  {
   "cell_type": "code",
   "execution_count": 232,
   "id": "7b83db72",
   "metadata": {},
   "outputs": [
    {
     "name": "stdout",
     "output_type": "stream",
     "text": [
      "RF MODEL\n",
      "[[962   4]\n",
      " [ 25 124]]\n",
      "Test_Set\n",
      "              precision    recall  f1-score   support\n",
      "\n",
      "         ham       0.97      1.00      0.99       966\n",
      "        spam       0.97      0.83      0.90       149\n",
      "\n",
      "    accuracy                           0.97      1115\n",
      "   macro avg       0.97      0.91      0.94      1115\n",
      "weighted avg       0.97      0.97      0.97      1115\n",
      "\n",
      "Train_Set\n",
      "              precision    recall  f1-score   support\n",
      "\n",
      "         ham       0.98      1.00      0.99      3859\n",
      "        spam       0.99      0.89      0.94       598\n",
      "\n",
      "    accuracy                           0.98      4457\n",
      "   macro avg       0.99      0.94      0.96      4457\n",
      "weighted avg       0.98      0.98      0.98      4457\n",
      "\n"
     ]
    }
   ],
   "source": [
    "print(\"RF MODEL\")\n",
    "eval(rf, X_train_tf_idf, X_test_tf_idf)"
   ]
  },
  {
   "cell_type": "code",
   "execution_count": 233,
   "id": "2890f11d",
   "metadata": {},
   "outputs": [
    {
     "data": {
      "text/plain": [
       "test_accuracy          0.972178\n",
       "test_precision-spam    0.988104\n",
       "test_recall-spam       0.802599\n",
       "test_f1-spam           0.885224\n",
       "dtype: float64"
      ]
     },
     "execution_count": 233,
     "metadata": {},
     "output_type": "execute_result"
    }
   ],
   "source": [
    "model = RandomForestClassifier(100, max_depth=40, random_state = 42, n_jobs = -1)\n",
    "scores = cross_validate(model, X_train_tf_idf, y_train, scoring = scoring, cv = 10)\n",
    "df_scores = pd.DataFrame(scores, index = range(1, 11))\n",
    "df_scores.mean()[2:]"
   ]
  },
  {
   "cell_type": "code",
   "execution_count": 234,
   "id": "2bab5aeb",
   "metadata": {},
   "outputs": [],
   "source": [
    "y_pred = rf.predict(X_test_tf_idf)\n",
    "rf_tfidf_rec_spam = recall_score(y_test, y_pred, labels = [\"spam\"], average = None)\n",
    "rf_tfidf_f1_spam = f1_score(y_test, y_pred, labels = [\"spam\"], average = None)"
   ]
  },
  {
   "cell_type": "markdown",
   "id": "284e9430",
   "metadata": {},
   "source": [
    "# Ada Boost"
   ]
  },
  {
   "cell_type": "code",
   "execution_count": 235,
   "id": "6acc42f6",
   "metadata": {},
   "outputs": [
    {
     "data": {
      "text/plain": [
       "AdaBoostClassifier(n_estimators=500, random_state=42)"
      ]
     },
     "execution_count": 235,
     "metadata": {},
     "output_type": "execute_result"
    }
   ],
   "source": [
    "from sklearn.ensemble import AdaBoostClassifier\n",
    "ada = AdaBoostClassifier(n_estimators= 500, random_state = 42)\n",
    "ada.fit(X_train_tf_idf, y_train)"
   ]
  },
  {
   "cell_type": "code",
   "execution_count": 236,
   "id": "179b8736",
   "metadata": {},
   "outputs": [
    {
     "name": "stdout",
     "output_type": "stream",
     "text": [
      "Ada MODEL\n",
      "[[959   7]\n",
      " [ 23 126]]\n",
      "Test_Set\n",
      "              precision    recall  f1-score   support\n",
      "\n",
      "         ham       0.98      0.99      0.98       966\n",
      "        spam       0.95      0.85      0.89       149\n",
      "\n",
      "    accuracy                           0.97      1115\n",
      "   macro avg       0.96      0.92      0.94      1115\n",
      "weighted avg       0.97      0.97      0.97      1115\n",
      "\n",
      "Train_Set\n",
      "              precision    recall  f1-score   support\n",
      "\n",
      "         ham       1.00      1.00      1.00      3859\n",
      "        spam       1.00      1.00      1.00       598\n",
      "\n",
      "    accuracy                           1.00      4457\n",
      "   macro avg       1.00      1.00      1.00      4457\n",
      "weighted avg       1.00      1.00      1.00      4457\n",
      "\n"
     ]
    }
   ],
   "source": [
    "print(\"Ada MODEL\")\n",
    "eval(ada, X_train_tf_idf, X_test_tf_idf)"
   ]
  },
  {
   "cell_type": "code",
   "execution_count": 237,
   "id": "969d9767",
   "metadata": {},
   "outputs": [
    {
     "data": {
      "text/plain": [
       "test_accuracy          0.970159\n",
       "test_precision-spam    0.940701\n",
       "test_recall-spam       0.831130\n",
       "test_f1-spam           0.881752\n",
       "dtype: float64"
      ]
     },
     "execution_count": 237,
     "metadata": {},
     "output_type": "execute_result"
    }
   ],
   "source": [
    "model = AdaBoostClassifier(n_estimators= 500, random_state = 42)\n",
    "scores = cross_validate(model, X_train_tf_idf, y_train, scoring = scoring, cv = 10)\n",
    "df_scores = pd.DataFrame(scores, index = range(1, 11))\n",
    "df_scores.mean()[2:]"
   ]
  },
  {
   "cell_type": "code",
   "execution_count": 238,
   "id": "58b8f8d1",
   "metadata": {},
   "outputs": [],
   "source": [
    "y_pred = ada.predict(X_test_tf_idf)\n",
    "ada_tfidf_rec_spam = recall_score(y_test, y_pred, labels = [\"spam\"], average = None)\n",
    "ada_tfidf_f1_spam = f1_score(y_test, y_pred, labels = [\"spam\"], average = None)\n"
   ]
  },
  {
   "cell_type": "markdown",
   "id": "4f9bdf6f",
   "metadata": {},
   "source": [
    "# Compare the performance of the models"
   ]
  },
  {
   "cell_type": "code",
   "execution_count": 242,
   "id": "da341874",
   "metadata": {},
   "outputs": [
    {
     "data": {
      "image/png": "[encoded data removed]",
      "text/plain": [
       "<Figure size 1080x2160 with 2 Axes>"
      ]
     },
     "metadata": {},
     "output_type": "display_data"
    }
   ],
   "source": [
    "compare = pd.DataFrame({\"Model\": [\"NaiveBayes_count\", \"LogReg_count\", \"SVM_count\", \"KNN_count\", \"Random Forest_count\", \n",
    "                                  \"AdaBoost_count\", \"NaiveBayes_tfidf\", \"LogReg_tfidf\", \"SVM_tfidf\", \"KNN_tfidf\", \n",
    "                                  \"Random Forest_tfidf\", \"AdaBoost_tfidf\"],\n",
    "                        \n",
    "                        \"F1_Score_Spam\": [nb_count_f1_spam[0], log_count_f1_spam[0], svc_count_f1_spam[0], knn_count_f1_spam[0],\n",
    "                                             rf_count_f1_spam[0], ada_count_f1_spam[0], nb_tfidf_f1_spam[0], log_tfidf_f1_spam[0],\n",
    "                                             svc_tfidf_f1_spam[0], knn_tfidf_f1_spam[0], rf_tfidf_f1_spam[0], ada_tfidf_f1_spam[0]],\n",
    "                        \n",
    "                        \"Recall_Score_Spam\": [nb_count_rec_spam[0], log_count_rec_spam[0], svc_count_rec_spam[0], \n",
    "                                                  knn_count_rec_spam[0], rf_count_rec_spam[0], ada_count_rec_spam[0], \n",
    "                                                  nb_tfidf_rec_spam[0], log_tfidf_rec_spam[0], svc_tfidf_rec_spam[0], \n",
    "                                                  knn_tfidf_rec_spam[0], rf_tfidf_rec_spam[0], ada_tfidf_rec_spam[0]]\n",
    "                        \n",
    "              })\n",
    "\n",
    "def labels(ax):\n",
    "                        \n",
    "    for p in ax.patches:\n",
    "        width = p.get_width()                        # get bar length\n",
    "        ax.text(width,                               # set the text at 1 unit right of the bar\n",
    "                p.get_y() + p.get_height() / 2,      # get Y coordinate + X coordinate / 2\n",
    "                '{:1.3f}'.format(width),             # set variable to display, 2 decimals\n",
    "                ha = 'left',                         # horizontal alignment\n",
    "                va = 'center')                       # vertical alignment\n",
    "    \n",
    "plt.figure(figsize=(15,30))\n",
    "plt.subplot(211)\n",
    "compare = compare.sort_values(by=\"Recall_Score_Spam\", ascending=False)\n",
    "ax=sns.barplot(x=\"Recall_Score_Spam\", y=\"Model\", data=compare, palette=\"Blues_d\")\n",
    "labels(ax)\n",
    "\n",
    "plt.subplot(212)\n",
    "compare = compare.sort_values(by=\"F1_Score_Spam\", ascending=False)\n",
    "ax=sns.barplot(x=\"F1_Score_Spam\", y=\"Model\", data=compare, palette=\"Blues_d\")\n",
    "labels(ax)\n",
    "\n",
    "plt.show();"
   ]
  },
  {
   "cell_type": "markdown",
   "id": "d6cf6c2f",
   "metadata": {},
   "source": [
    "# For New Message, prediction with pipeline"
   ]
  },
  {
   "cell_type": "code",
   "execution_count": 243,
   "id": "4f155592",
   "metadata": {},
   "outputs": [],
   "source": [
    "from sklearn.pipeline import Pipeline"
   ]
  },
  {
   "cell_type": "code",
   "execution_count": 244,
   "id": "6f2f1852",
   "metadata": {},
   "outputs": [],
   "source": [
    "pipe = Pipeline([('count',CountVectorizer(preprocessor=cleaning, min_df=3)),('np',MultinomialNB(alpha=3) )])"
   ]
  },
  {
   "cell_type": "code",
   "execution_count": 245,
   "id": "cdf1fb07",
   "metadata": {},
   "outputs": [
    {
     "data": {
      "text/plain": [
       "Pipeline(steps=[('count',\n",
       "                 CountVectorizer(min_df=3,\n",
       "                                 preprocessor=<function cleaning at 0x0000021E6669B550>)),\n",
       "                ('np', MultinomialNB(alpha=3))])"
      ]
     },
     "execution_count": 245,
     "metadata": {},
     "output_type": "execute_result"
    }
   ],
   "source": [
    "pipe.fit(X, y)"
   ]
  },
  {
   "cell_type": "code",
   "execution_count": 246,
   "id": "cc88e2c6",
   "metadata": {},
   "outputs": [
    {
     "data": {
      "text/plain": [
       "array(['ham'], dtype='<U4')"
      ]
     },
     "execution_count": 246,
     "metadata": {},
     "output_type": "execute_result"
    }
   ],
   "source": [
    "message = \"it was not the worst flight i have ever been\"\n",
    "message = pd.Series(message)\n",
    "pipe.predict(message)"
   ]
  },
  {
   "cell_type": "code",
   "execution_count": 253,
   "id": "f1395228",
   "metadata": {},
   "outputs": [
    {
     "data": {
      "text/plain": [
       "array(['spam'], dtype='<U4')"
      ]
     },
     "execution_count": 253,
     "metadata": {},
     "output_type": "execute_result"
    }
   ],
   "source": [
    "message = \"FREE for 1st week!\"\n",
    "message = pd.Series(message)\n",
    "pipe.predict(message)"
   ]
  },
  {
   "cell_type": "code",
   "execution_count": 17,
   "id": "c6905e47",
   "metadata": {},
   "outputs": [],
   "source": [
    "from wordcloud import WordCloud\n",
    "import re"
   ]
  },
  {
   "cell_type": "code",
   "execution_count": 21,
   "id": "bae7dc56",
   "metadata": {},
   "outputs": [],
   "source": [
    "from collections import Counter\n",
    "all_words =Counter(\" \".join(cleaning_v2).split()).most_common(100)"
   ]
  },
  {
   "cell_type": "code",
   "execution_count": 22,
   "id": "f0fc5a0a",
   "metadata": {},
   "outputs": [],
   "source": [
    "all_words = re.sub(\"[^a-zA-Z]\",  # Search for all non-letters\n",
    "                          \" \",          # Replace all non-letters with spaces\n",
    "                          str(all_words))"
   ]
  },
  {
   "cell_type": "code",
   "execution_count": 23,
   "id": "96149fc3",
   "metadata": {},
   "outputs": [
    {
     "data": {
      "text/plain": [
       "'   u            call           im           not           get           ur           no           lt           go           free           dont           know           ok           come           got           like           good           day           time           text           want           love           ill           send           one           need           today           going           r           txt           home           lor           sorry           see           still           back           stop           c           mobile           take           da           n           reply           think           tell           phone           well           new           later           week           hi           please           cant           pls           make           night           say           dear           claim           message           thing           great           k           much           oh           hope           number           na           work           happy           hey           friend           give           way           msg           wat          thats          prize          right          yes          let          wan          already          tomorrow          ask          said          yeah          min          really          amp          babe          meet          co          e          life          didnt          last          service          win          morning       '"
      ]
     },
     "execution_count": 23,
     "metadata": {},
     "output_type": "execute_result"
    }
   ],
   "source": [
    "all_words"
   ]
  },
  {
   "cell_type": "code",
   "execution_count": 24,
   "id": "fbbe406c",
   "metadata": {},
   "outputs": [],
   "source": [
    "worldcloud = WordCloud(background_color=\"white\", max_words =250)"
   ]
  },
  {
   "cell_type": "code",
   "execution_count": 25,
   "id": "1f56256a",
   "metadata": {},
   "outputs": [
    {
     "data": {
      "text/plain": [
       "<wordcloud.wordcloud.WordCloud at 0x2134bf36b50>"
      ]
     },
     "execution_count": 25,
     "metadata": {},
     "output_type": "execute_result"
    }
   ],
   "source": [
    "worldcloud.generate(all_words)"
   ]
  },
  {
   "cell_type": "code",
   "execution_count": 26,
   "id": "fb39cac0",
   "metadata": {},
   "outputs": [
    {
     "data": {
      "image/png": "[encoded data removed]",
      "text/plain": [
       "<Figure size 936x936 with 1 Axes>"
      ]
     },
     "metadata": {
      "needs_background": "light"
     },
     "output_type": "display_data"
    }
   ],
   "source": [
    "import matplotlib.pyplot as plt\n",
    "plt.figure(figsize = (13,13))\n",
    "plt.imshow(worldcloud, interpolation=\"bilinear\",)\n",
    "plt.axis(\"off\")\n",
    "plt.show()"
   ]
  },
  {
   "cell_type": "code",
   "execution_count": null,
   "id": "02e43875",
   "metadata": {},
   "outputs": [],
   "source": []
  },
  {
   "cell_type": "code",
   "execution_count": null,
   "id": "62843417",
   "metadata": {},
   "outputs": [],
   "source": []
  },
  {
   "cell_type": "code",
   "execution_count": null,
   "id": "ba6f2a1f",
   "metadata": {},
   "outputs": [],
   "source": []
  },
  {
   "cell_type": "code",
   "execution_count": null,
   "id": "d746b67c",
   "metadata": {},
   "outputs": [],
   "source": []
  },
  {
   "cell_type": "code",
   "execution_count": null,
   "id": "d4d471b9",
   "metadata": {},
   "outputs": [],
   "source": []
  },
  {
   "cell_type": "code",
   "execution_count": null,
   "id": "6fcba8c8",
   "metadata": {},
   "outputs": [],
   "source": []
  },
  {
   "cell_type": "code",
   "execution_count": null,
   "id": "d3b149bb",
   "metadata": {},
   "outputs": [],
   "source": []
  },
  {
   "cell_type": "code",
   "execution_count": null,
   "id": "eb75da0d",
   "metadata": {},
   "outputs": [],
   "source": []
  },
  {
   "cell_type": "code",
   "execution_count": null,
   "id": "e6e1b403",
   "metadata": {},
   "outputs": [],
   "source": []
  }
 ],
 "metadata": {
  "kernelspec": {
   "display_name": "Python 3 (ipykernel)",
   "language": "python",
   "name": "python3"
  },
  "language_info": {
   "codemirror_mode": {
    "name": "ipython",
    "version": 3
   },
   "file_extension": ".py",
   "mimetype": "text/x-python",
   "name": "python",
   "nbconvert_exporter": "python",
   "pygments_lexer": "ipython3",
   "version": "3.9.7"
  }
 },
 "nbformat": 4,
 "nbformat_minor": 5
}
